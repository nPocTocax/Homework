{
  "nbformat": 4,
  "nbformat_minor": 0,
  "metadata": {
    "colab": {
      "provenance": [],
      "authorship_tag": "ABX9TyNQxp2MEB40lWq02vh5MI7u"
    },
    "kernelspec": {
      "name": "python3",
      "display_name": "Python 3"
    },
    "language_info": {
      "name": "python"
    }
  },
  "cells": [
    {
      "cell_type": "code",
      "execution_count": 4,
      "metadata": {
        "id": "6c4hpXp748vd",
        "colab": {
          "base_uri": "https://localhost:8080/"
        },
        "outputId": "6b49e1c4-82d2-4c0e-8dc9-d57b59e48dce"
      },
      "outputs": [
        {
          "output_type": "stream",
          "name": "stdout",
          "text": [
            "11112\n",
            "False\n"
          ]
        }
      ],
      "source": [
        "def is_palindrome(text):\n",
        "    text = text.lower().replace(\" \", \"\")\n",
        "    if text == text[::-1]:\n",
        "        return True\n",
        "    else:\n",
        "        return False\n",
        "\n",
        "x = str(input())\n",
        "print(is_palindrome(x))"
      ]
    },
    {
      "cell_type": "code",
      "source": [
        "def format_person_info(first_name, last_name, patronymic, age):\n",
        "    return f\"{last_name} {first_name} {patronymic} {age} г.р. зарегистрирован\"\n",
        "\n",
        "x = str(input(\"введите фамилию \"))\n",
        "y = str(input(\"введите имя \"))\n",
        "z = str(input(\"введите отчиство \"))\n",
        "r = str(input(\"введите год рождения \"))\n",
        "person_info = format_person_info(y, x, z, r)\n",
        "print(person_info)"
      ],
      "metadata": {
        "colab": {
          "base_uri": "https://localhost:8080/"
        },
        "id": "JL_H93MfA_3Q",
        "outputId": "086b6068-2855-4732-9cc1-eef236c74273"
      },
      "execution_count": 11,
      "outputs": [
        {
          "output_type": "stream",
          "name": "stdout",
          "text": [
            "введите фамилию 1\n",
            "введите имя 2\n",
            "введите отчиство 3\n",
            "введите год рождения 4\n",
            "1 2 3 4 г.р. зарегистрирован\n"
          ]
        }
      ]
    },
    {
      "cell_type": "code",
      "source": [
        "def find_maximum(x, y):\n",
        "    if x >= y:\n",
        "        return x\n",
        "    else:\n",
        "        return y\n",
        "x = int(input(\"введите х \"))\n",
        "y = int(input(\"введите у \"))\n",
        "max_number = find_maximum(x, y)\n",
        "print(max_number)"
      ],
      "metadata": {
        "colab": {
          "base_uri": "https://localhost:8080/"
        },
        "id": "T_r1c32UDnbb",
        "outputId": "3006342b-9627-4e46-dfc2-2e95a8dd6470"
      },
      "execution_count": 13,
      "outputs": [
        {
          "output_type": "stream",
          "name": "stdout",
          "text": [
            "введите х 5\n",
            "введите у 10\n",
            "10\n"
          ]
        }
      ]
    }
  ]
}