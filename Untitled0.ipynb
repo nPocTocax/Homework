{
  "nbformat": 4,
  "nbformat_minor": 0,
  "metadata": {
    "colab": {
      "provenance": []
    },
    "kernelspec": {
      "name": "python3",
      "display_name": "Python 3"
    },
    "language_info": {
      "name": "python"
    }
  },
  "cells": [
    {
      "cell_type": "code",
      "execution_count": 21,
      "metadata": {
        "colab": {
          "base_uri": "https://localhost:8080/"
        },
        "id": "jbOOF1eblST5",
        "outputId": "3e3f2277-9292-4054-a33c-da5ae252738c"
      },
      "outputs": [
        {
          "output_type": "stream",
          "name": "stdout",
          "text": [
            "Число которое нужно округлить 1.12345\n",
            "до какого знака нужно округлить 3\n",
            "1.123\n"
          ]
        }
      ],
      "source": [
        "number = float(input(\"Число которое нужно округлить \"))\n",
        "sign = int(input(\"до какого знака нужно округлить \"))\n",
        "print(\"результат\", round(number, sign))\n",
        "\n"
      ]
    },
    {
      "cell_type": "code",
      "source": [
        "number = float(input(\"1 число \"))\n",
        "sign = float(input(\"2 число \"))\n",
        "print(\"результат\", (number + sign) / 2)"
      ],
      "metadata": {
        "colab": {
          "base_uri": "https://localhost:8080/"
        },
        "id": "vbn0jQjYu6CB",
        "outputId": "494a41e3-2498-4021-9408-ae09618579d7"
      },
      "execution_count": 23,
      "outputs": [
        {
          "output_type": "stream",
          "name": "stdout",
          "text": [
            "1 число 1\n",
            "2 число 3\n",
            "результат 2.0\n"
          ]
        }
      ]
    }
  ]
}