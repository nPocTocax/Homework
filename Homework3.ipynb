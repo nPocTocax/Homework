{
  "nbformat": 4,
  "nbformat_minor": 0,
  "metadata": {
    "colab": {
      "provenance": [],
      "authorship_tag": "ABX9TyMhcDxWRb8LWNRA0DW1JVT0"
    },
    "kernelspec": {
      "name": "python3",
      "display_name": "Python 3"
    },
    "language_info": {
      "name": "python"
    }
  },
  "cells": [
    {
      "cell_type": "code",
      "execution_count": 2,
      "metadata": {
        "colab": {
          "base_uri": "https://localhost:8080/"
        },
        "id": "wT8cv6evuFAc",
        "outputId": "d0774716-d7aa-4b4d-c66c-1bc179626025"
      },
      "outputs": [
        {
          "output_type": "stream",
          "name": "stdout",
          "text": [
            "11111111111\n",
            "Сумма: 11\n"
          ]
        }
      ],
      "source": [
        "n = int(input())\n",
        "\n",
        "suma = 0\n",
        "\n",
        "while n > 0:\n",
        "    digit = n % 10\n",
        "    suma = suma + digit\n",
        "    n = n // 10\n",
        "\n",
        "print(\"Сумма:\", suma)"
      ]
    },
    {
      "cell_type": "code",
      "source": [
        "n = int(input())\n",
        "\n",
        "factorial = 1\n",
        "while n > 1:\n",
        "    factorial *= n\n",
        "    n -= 1\n",
        "\n",
        "print(factorial)"
      ],
      "metadata": {
        "colab": {
          "base_uri": "https://localhost:8080/"
        },
        "id": "CILLQ7J0yafI",
        "outputId": "5f938345-9076-4a0f-b1c2-7713589bbb96"
      },
      "execution_count": 15,
      "outputs": [
        {
          "output_type": "stream",
          "name": "stdout",
          "text": [
            "5\n",
            "120\n"
          ]
        }
      ]
    },
    {
      "cell_type": "code",
      "source": [
        "import math\n",
        "n = int(input())\n",
        "print(math.factorial(n))"
      ],
      "metadata": {
        "colab": {
          "base_uri": "https://localhost:8080/"
        },
        "id": "5saqONDG0efe",
        "outputId": "46498097-cee6-4a5f-9442-6cf4f6f1e355"
      },
      "execution_count": 16,
      "outputs": [
        {
          "output_type": "stream",
          "name": "stdout",
          "text": [
            "5\n",
            "120\n"
          ]
        }
      ]
    },
    {
      "cell_type": "code",
      "source": [
        "n = int(input())\n",
        "for i in range(1,n):\n",
        "    if i%7 ==0:\n",
        "        print(i)"
      ],
      "metadata": {
        "colab": {
          "base_uri": "https://localhost:8080/"
        },
        "id": "Kjpvqujv27lB",
        "outputId": "0827adcc-d7f8-475e-8de3-52b04e1090cb"
      },
      "execution_count": 18,
      "outputs": [
        {
          "output_type": "stream",
          "name": "stdout",
          "text": [
            "100\n",
            "7\n",
            "14\n",
            "21\n",
            "28\n",
            "35\n",
            "42\n",
            "49\n",
            "56\n",
            "63\n",
            "70\n",
            "77\n",
            "84\n",
            "91\n",
            "98\n"
          ]
        }
      ]
    }
  ]
}