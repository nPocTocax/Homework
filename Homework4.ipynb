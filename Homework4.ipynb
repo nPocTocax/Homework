{
  "nbformat": 4,
  "nbformat_minor": 0,
  "metadata": {
    "colab": {
      "provenance": [],
      "authorship_tag": "ABX9TyPDaPhRyxUvupAo8oFsw6J5",
      "include_colab_link": true
    },
    "kernelspec": {
      "name": "python3",
      "display_name": "Python 3"
    },
    "language_info": {
      "name": "python"
    }
  },
  "cells": [
    {
      "cell_type": "markdown",
      "metadata": {
        "id": "view-in-github",
        "colab_type": "text"
      },
      "source": [
        "<a href=\"https://colab.research.google.com/github/nPocTocax/Homework/blob/main/Homework4.ipynb\" target=\"_parent\"><img src=\"https://colab.research.google.com/assets/colab-badge.svg\" alt=\"Open In Colab\"/></a>"
      ]
    },
    {
      "cell_type": "markdown",
      "source": [
        "я не знаю как оно работает, но оно работает\n",
        "я не знаю зачем переменная xll, но без неё не работает, а с ней работает.\n",
        "Говорят же, работает не трожь"
      ],
      "metadata": {
        "id": "_izBj7OkEFcu"
      }
    },
    {
      "cell_type": "code",
      "execution_count": null,
      "metadata": {
        "colab": {
          "base_uri": "https://localhost:8080/"
        },
        "id": "WfufVn949O_W",
        "outputId": "0f2b40cd-222e-4b86-f5c6-b6ae9f20fe49"
      },
      "outputs": [
        {
          "output_type": "stream",
          "name": "stdout",
          "text": [
            "я не знаю как оно работает, но оно работает\n",
            "['работает', 'оно', 'но', 'работает,', 'оно', 'как', 'знаю', 'не', 'я']\n"
          ]
        }
      ],
      "source": [
        "x = str(input())\n",
        "xl = x.split()\n",
        "xll = xl.reverse()\n",
        "print(xl)\n"
      ]
    },
    {
      "cell_type": "code",
      "source": [
        "z = input(\"Введите строку: \")\n",
        "x = \"\"\n",
        "\n",
        "for y, c in enumerate(z):\n",
        "    if y % 2 == 0:\n",
        "        x += c\n",
        "\n",
        "print(x)"
      ],
      "metadata": {
        "colab": {
          "base_uri": "https://localhost:8080/"
        },
        "id": "xpfjyJMYDYqb",
        "outputId": "7727fb22-5f7b-460f-f279-c8fd96ba3e7b"
      },
      "execution_count": 2,
      "outputs": [
        {
          "output_type": "stream",
          "name": "stdout",
          "text": [
            "Введите строку: In the hole in the ground there lived a hobbit\n",
            "I h oei h rudteelvdahbi\n"
          ]
        }
      ]
    },
    {
      "cell_type": "code",
      "source": [
        "numbers = input(\"Введите список чисел через пробел: \").split()\n",
        "n = int(input(\"Введите степень: \"))\n",
        "\n",
        "numbers = [int(num) ** n for num in numbers]\n",
        "print(numbers)"
      ],
      "metadata": {
        "colab": {
          "base_uri": "https://localhost:8080/"
        },
        "id": "qZ3ifBu9z8rV",
        "outputId": "c5df343d-77cd-4b2c-a72e-6efdde78459a"
      },
      "execution_count": 3,
      "outputs": [
        {
          "output_type": "stream",
          "name": "stdout",
          "text": [
            "Введите список чисел через пробел: 3 5 -7 -13 43 8 0 -13 8 -1 2\n",
            "Введите степень: 2\n",
            "[9, 25, 49, 169, 1849, 64, 0, 169, 64, 1, 4]\n"
          ]
        }
      ]
    },
    {
      "cell_type": "code",
      "source": [
        "text = input(\"Введите текст: \")\n",
        "character = input(\"Введите символ: \")\n",
        "doubled_text = ' '.join(word.replace(character, character*2) for word in text.split())\n",
        "print(doubled_text)\n"
      ],
      "metadata": {
        "colab": {
          "base_uri": "https://localhost:8080/"
        },
        "id": "uCRVKhEr2OLP",
        "outputId": "38dd6ff6-ec52-41ba-88aa-0c83819dfbf1"
      },
      "execution_count": 2,
      "outputs": [
        {
          "output_type": "stream",
          "name": "stdout",
          "text": [
            "Введите текст: ипаи пва вп вап\n",
            "Введите символ: .\n",
            "ипаи пва вп вап\n"
          ]
        }
      ]
    },
    {
      "cell_type": "code",
      "source": [
        "string = input(\"Введите строку: \")\n",
        "count_x = string.count('x')\n",
        "count_y = string.count('y')\n",
        "\n",
        "result = f\"x: {count_x}, y: {count_y}\"\n",
        "print(result)\n"
      ],
      "metadata": {
        "colab": {
          "base_uri": "https://localhost:8080/"
        },
        "id": "PoYyWL703zTy",
        "outputId": "bf45c3a9-0d0c-4919-b529-dbac0add6f50"
      },
      "execution_count": 1,
      "outputs": [
        {
          "output_type": "stream",
          "name": "stdout",
          "text": [
            "Введите строку: xxxxyyyyyy\n",
            "x: 4, y: 6\n"
          ]
        }
      ]
    },
    {
      "cell_type": "code",
      "source": [
        "def print_bracket_contents(text):\n",
        "    opening_bracket = '('\n",
        "    closing_bracket = ')'\n",
        "\n",
        "    start_index = text.find(opening_bracket)\n",
        "    while start_index != -1:\n",
        "        end_index = text.find(closing_bracket)\n",
        "\n",
        "        if end_index != -1:\n",
        "            content = text[start_index+1:end_index]\n",
        "            print(content)\n",
        "\n",
        "        start_index = text.find(opening_bracket, end_index)"
      ],
      "metadata": {
        "id": "Qka5LxPm2AoV"
      },
      "execution_count": 5,
      "outputs": []
    }
  ]
}