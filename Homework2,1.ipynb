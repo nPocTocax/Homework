{
  "nbformat": 4,
  "nbformat_minor": 0,
  "metadata": {
    "colab": {
      "provenance": [],
      "toc_visible": true,
      "authorship_tag": "ABX9TyNE+aLQLpI33Bi0ndu4xkQ2"
    },
    "kernelspec": {
      "name": "python3",
      "display_name": "Python 3"
    },
    "language_info": {
      "name": "python"
    }
  },
  "cells": [
    {
      "cell_type": "code",
      "execution_count": 6,
      "metadata": {
        "colab": {
          "base_uri": "https://localhost:8080/"
        },
        "id": "rzmxsGzJG6ka",
        "outputId": "d1fbefac-97ef-4459-acb1-72b740759b14"
      },
      "outputs": [
        {
          "output_type": "stream",
          "name": "stdout",
          "text": [
            "Процент элементов вектора, больших 7: 25.0%\n"
          ]
        }
      ],
      "source": [
        "import numpy as np\n",
        "\n",
        "arr = np.random.randint(1, 11, size=100)\n",
        "percentage = np.count_nonzero(arr > 7) / len(arr) * 100\n",
        "print(f\"Процент элементов вектора, больших 7: {percentage}%\")"
      ]
    },
    {
      "cell_type": "code",
      "source": [
        "import numpy as np\n",
        "\n",
        "results = []\n",
        "for _ in range(1000):\n",
        "    arr = np.random.randint(1, 11, size=100)\n",
        "    percentage = np.count_nonzero(arr > 7) / len(arr) * 100\n",
        "    results.append(percentage)\n",
        "\n",
        "equal_percent = len([x for x in results if x == 20])\n",
        "percentage_equal = equal_percent / len(results) * 100\n",
        "print(f\"Часть результатов, равных 20%: {percentage_equal}%\")"
      ],
      "metadata": {
        "colab": {
          "base_uri": "https://localhost:8080/"
        },
        "id": "xVvJwexXKpLj",
        "outputId": "92a05fbc-c15d-4c3e-9aa9-ab6db15854d8"
      },
      "execution_count": 2,
      "outputs": [
        {
          "output_type": "stream",
          "name": "stdout",
          "text": [
            "Часть результатов, равных 20%: 0.8999999999999999%\n"
          ]
        }
      ]
    },
    {
      "cell_type": "code",
      "source": [
        "import numpy as np\n",
        "\n",
        "matrix = np.tile(np.arange(1, 11), (10, 1))\n",
        "print(matrix)"
      ],
      "metadata": {
        "colab": {
          "base_uri": "https://localhost:8080/"
        },
        "id": "dyb1bfUuKu8M",
        "outputId": "8934bf2e-bb55-4ef5-cb19-5bcf8b6489e0"
      },
      "execution_count": 3,
      "outputs": [
        {
          "output_type": "stream",
          "name": "stdout",
          "text": [
            "[[ 1  2  3  4  5  6  7  8  9 10]\n",
            " [ 1  2  3  4  5  6  7  8  9 10]\n",
            " [ 1  2  3  4  5  6  7  8  9 10]\n",
            " [ 1  2  3  4  5  6  7  8  9 10]\n",
            " [ 1  2  3  4  5  6  7  8  9 10]\n",
            " [ 1  2  3  4  5  6  7  8  9 10]\n",
            " [ 1  2  3  4  5  6  7  8  9 10]\n",
            " [ 1  2  3  4  5  6  7  8  9 10]\n",
            " [ 1  2  3  4  5  6  7  8  9 10]\n",
            " [ 1  2  3  4  5  6  7  8  9 10]]\n"
          ]
        }
      ]
    },
    {
      "cell_type": "code",
      "source": [
        "import numpy as np\n",
        "\n",
        "matrix = np.tile(np.arange(1, 11), (10, 1))\n",
        "column_sums = np.sum(matrix, axis=0)\n",
        "print(column_sums)"
      ],
      "metadata": {
        "colab": {
          "base_uri": "https://localhost:8080/"
        },
        "id": "2v3zwo4yKyEr",
        "outputId": "2b115a05-687e-45ec-d599-359de6c5a81c"
      },
      "execution_count": 4,
      "outputs": [
        {
          "output_type": "stream",
          "name": "stdout",
          "text": [
            "[ 10  20  30  40  50  60  70  80  90 100]\n"
          ]
        }
      ]
    }
  ]
}
