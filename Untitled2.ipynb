{
  "nbformat": 4,
  "nbformat_minor": 0,
  "metadata": {
    "colab": {
      "provenance": [],
      "authorship_tag": "ABX9TyOLj2KwAFKfDfD9xXrl+Cjo"
    },
    "kernelspec": {
      "name": "python3",
      "display_name": "Python 3"
    },
    "language_info": {
      "name": "python"
    }
  },
  "cells": [
    {
      "cell_type": "code",
      "execution_count": null,
      "metadata": {
        "colab": {
          "base_uri": "https://localhost:8080/"
        },
        "id": "jv54rjjjWsrC",
        "outputId": "afb60f33-4277-41ed-936a-79d0f57d20e3"
      },
      "outputs": [
        {
          "output_type": "stream",
          "name": "stdout",
          "text": [
            "Введите число: 111\n",
            "Нечентное число\n"
          ]
        }
      ],
      "source": [
        "number = int(input(\"Введите число: \"))\n",
        "if number % 2 == 0:\n",
        "    print(\"Четное число\")\n",
        "else:\n",
        "    print(\"Нечентное число\")"
      ]
    },
    {
      "cell_type": "code",
      "source": [
        "number = int(input(\"Введите число: \"))\n",
        "numberr = int(input(\"Введите число: \"))\n",
        "if number > numberr:\n",
        "   print(number)\n",
        "elif number < numberr:\n",
        "    print(numberr)\n",
        "else: print(\"числа ровны\")"
      ],
      "metadata": {
        "colab": {
          "base_uri": "https://localhost:8080/"
        },
        "id": "g1Bumax6mgZX",
        "outputId": "a886ba47-8287-4223-f099-2aa860783f31"
      },
      "execution_count": 32,
      "outputs": [
        {
          "output_type": "stream",
          "name": "stdout",
          "text": [
            "Введите число: 11\n",
            "Введите число: 11\n",
            "числа ровны\n"
          ]
        }
      ]
    },
    {
      "cell_type": "code",
      "source": [
        "x = int(input(\"Введите x: \"))\n",
        "y = int(input(\"Введите y: \"))\n",
        "if (x + y) % 2 == 1:\n",
        "    print('YES')\n",
        "else:\n",
        "    print('NO')"
      ],
      "metadata": {
        "colab": {
          "base_uri": "https://localhost:8080/"
        },
        "id": "IIDvywYYnZ4U",
        "outputId": "3cb1d154-61e8-4d2f-a599-27fcea69b45d"
      },
      "execution_count": 33,
      "outputs": [
        {
          "output_type": "stream",
          "name": "stdout",
          "text": [
            "Введите x: 5\n",
            "Введите y: 5\n",
            "NO\n"
          ]
        }
      ]
    }
  ]
}