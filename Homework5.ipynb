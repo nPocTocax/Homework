{
  "nbformat": 4,
  "nbformat_minor": 0,
  "metadata": {
    "colab": {
      "provenance": [],
      "authorship_tag": "ABX9TyMjtFXOF847jQbwN6BAsLyS"
    },
    "kernelspec": {
      "name": "python3",
      "display_name": "Python 3"
    },
    "language_info": {
      "name": "python"
    }
  },
  "cells": [
    {
      "cell_type": "code",
      "execution_count": 10,
      "metadata": {
        "colab": {
          "base_uri": "https://localhost:8080/"
        },
        "id": "W9O0reTXqYfV",
        "outputId": "d6294c7a-f9c9-4c36-85f3-63d16ad3a13d"
      },
      "outputs": [
        {
          "output_type": "stream",
          "name": "stdout",
          "text": [
            "Введите количество городов: 6\n",
            "Введите название города: а\n",
            "Введите название города: а\n",
            "Введите название города: б\n",
            "Введите название города: б\n",
            "Введите название города: г\n",
            "Введите название города: \n",
            "Количество городов с повторяющимися названиями: 4\n"
          ]
        }
      ],
      "source": [
        "n = int(input(\"Введите количество городов: \"))\n",
        "cities = {}\n",
        "\n",
        "for _ in range(n):\n",
        "    city = input(\"Введите название города: \")\n",
        "    if city in cities:\n",
        "        cities[city] += 1\n",
        "    else:\n",
        "        cities[city] = 1\n",
        "\n",
        "count = 0\n",
        "for repetitions in cities.values():\n",
        "    if repetitions > 0:\n",
        "        count += 1\n",
        "\n",
        "print(\"Количество городов с повторяющимися названиями:\", count)"
      ]
    },
    {
      "cell_type": "code",
      "source": [
        "def capitalize_text(text):\n",
        "    words = text.split()\n",
        "    capitalized_words = []\n",
        "\n",
        "    for i in range(len(words)):\n",
        "        if i == 0:\n",
        "            capitalized_words.append(words[i][0].upper() + words[i][1:])\n",
        "        else:\n",
        "            if words[i-1][-1] in ['.', '!', '?']:\n",
        "                capitalized_words.append(words[i][0].upper() + words[i][1:])\n",
        "            else:\n",
        "                capitalized_words.append(words[i])\n",
        "\n",
        "    capitalized_text = ' '.join(capitalized_words)\n",
        "    return capitalized_text\n",
        "\n",
        "text = input(\"Введите текст: \")\n",
        "result = capitalize_text(text)\n",
        "print(result)"
      ],
      "metadata": {
        "colab": {
          "base_uri": "https://localhost:8080/"
        },
        "id": "O87ioolBtUAV",
        "outputId": "260c6e8a-69d0-432d-f2d3-6dd21bfcd26c"
      },
      "execution_count": 14,
      "outputs": [
        {
          "output_type": "stream",
          "name": "stdout",
          "text": [
            "Введите текст: на этом заканчиваю свое сочинение. поставьте пятерку, Мария Ивановна! я очень старалась!\n",
            "На этом заканчиваю свое сочинение. Поставьте пятерку, Мария Ивановна! Я очень старалась!\n"
          ]
        }
      ]
    },
    {
      "cell_type": "code",
      "source": [
        "def is_anagram(str1, str2):\n",
        "\n",
        "    str1 = str1.replace(\" \", \"\").lower()\n",
        "    str2 = str2.replace(\" \", \"\").lower()\n",
        "\n",
        "    if len(str1) != len(str2):\n",
        "        return False\n",
        "\n",
        "    set1 = set(str1)\n",
        "    set2 = set(str2)\n",
        "\n",
        "    if set1 == set2:\n",
        "        return True\n",
        "    else:\n",
        "        return False\n",
        "\n",
        "str1 = input(\"Введите первую строку: \")\n",
        "str2 = input(\"Введите вторую строку: \")\n",
        "\n",
        "if is_anagram(str1, str2):\n",
        "    print(\"Строки являются анаграммами.\")\n",
        "else:\n",
        "    print(\"Строки не являются анаграммами.\")"
      ],
      "metadata": {
        "colab": {
          "base_uri": "https://localhost:8080/"
        },
        "id": "fgzfLRwkwHRH",
        "outputId": "19b7f32e-4416-4dea-b5cb-d363f7eb2853"
      },
      "execution_count": 15,
      "outputs": [
        {
          "output_type": "stream",
          "name": "stdout",
          "text": [
            "Введите первую строку: пила\n",
            "Введите вторую строку: липа\n",
            "Строки являются анаграммами.\n"
          ]
        }
      ]
    },
    {
      "cell_type": "code",
      "source": [
        "algebra = set(input().split())\n",
        "geometry = set(input().split())\n",
        "trigonometry = set(input().split())\n",
        "\n",
        "solved_all = algebra.intersection(geometry, trigonometry)\n",
        "\n",
        "if solved_all:\n",
        "    sorted_names = sorted(solved_all)\n",
        "    print(' '.join(sorted_names))\n",
        "else:\n",
        "    print('Все три задачи никто не решил')"
      ],
      "metadata": {
        "colab": {
          "base_uri": "https://localhost:8080/"
        },
        "id": "THVxGu-wxn6Y",
        "outputId": "b4b56704-a34b-42d9-c66a-18244ee04282"
      },
      "execution_count": 17,
      "outputs": [
        {
          "output_type": "stream",
          "name": "stdout",
          "text": [
            "Иванов Петров Сидоров Михайлов\n",
            "Иванов Михайлов\n",
            "Сидоров \n",
            "Все три задачи никто не решил\n"
          ]
        }
      ]
    }
  ]
}