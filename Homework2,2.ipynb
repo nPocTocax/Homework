{
  "nbformat": 4,
  "nbformat_minor": 0,
  "metadata": {
    "colab": {
      "provenance": [],
      "authorship_tag": "ABX9TyNw9cSeo5qx7h/KlVwBqrQS"
    },
    "kernelspec": {
      "name": "python3",
      "display_name": "Python 3"
    },
    "language_info": {
      "name": "python"
    }
  },
  "cells": [
    {
      "cell_type": "code",
      "execution_count": 2,
      "metadata": {
        "id": "RzrKnDeOQ4wa"
      },
      "outputs": [],
      "source": [
        "import pandas as pd\n",
        "\n",
        "data = {'Столбец 1': [1, 2, 3, 4, 5],\n",
        "        'Столбец 2': ['А', 'Б', 'В', 'Г', 'Д'],\n",
        "        'Столбец 3': [10.5, 20.2, 30.8, 40.1, 50.2]}\n",
        "\n",
        "df = pd.DataFrame(data)"
      ]
    },
    {
      "cell_type": "code",
      "source": [
        "print(df.head(3))\n",
        "print()\n",
        "print(df.tail(3))"
      ],
      "metadata": {
        "colab": {
          "base_uri": "https://localhost:8080/"
        },
        "id": "wknNQOxfR-YP",
        "outputId": "20373c35-8011-44bb-9e8e-6891dd320981"
      },
      "execution_count": 4,
      "outputs": [
        {
          "output_type": "stream",
          "name": "stdout",
          "text": [
            "   Столбец 1 Столбец 2  Столбец 3\n",
            "0          1         А       10.5\n",
            "1          2         Б       20.2\n",
            "2          3         В       30.8\n",
            "\n",
            "   Столбец 1 Столбец 2  Столбец 3\n",
            "2          3         В       30.8\n",
            "3          4         Г       40.1\n",
            "4          5         Д       50.2\n"
          ]
        }
      ]
    },
    {
      "cell_type": "code",
      "source": [
        "df.to_csv('DataFrame', index=False)"
      ],
      "metadata": {
        "id": "4CQn1t8gSaao"
      },
      "execution_count": 8,
      "outputs": []
    }
  ]
}